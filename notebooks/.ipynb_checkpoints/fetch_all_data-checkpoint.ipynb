{
 "cells": [
  {
   "cell_type": "code",
   "execution_count": 1,
   "id": "cf7a7c81-ef4f-43b4-8fd7-fde69c54f0f5",
   "metadata": {},
   "outputs": [],
   "source": [
    "#import Libraries\n",
    "import pandas\n",
    "import time\n",
    "import numpy\n",
    "import ids"
   ]
  },
  {
   "cell_type": "code",
   "execution_count": null,
   "id": "5129ad7b-d884-46c5-8302-cc83975c9f9b",
   "metadata": {},
   "outputs": [],
   "source": []
  }
 ],
 "metadata": {
  "kernelspec": {
   "display_name": "Python 3 (ipykernel)",
   "language": "python",
   "name": "python3"
  },
  "language_info": {
   "codemirror_mode": {
    "name": "ipython",
    "version": 3
   },
   "file_extension": ".py",
   "mimetype": "text/x-python",
   "name": "python",
   "nbconvert_exporter": "python",
   "pygments_lexer": "ipython3",
   "version": "3.12.7"
  }
 },
 "nbformat": 4,
 "nbformat_minor": 5
}
